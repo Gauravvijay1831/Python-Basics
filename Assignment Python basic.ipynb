{
 "cells": [
  {
   "cell_type": "markdown",
   "id": "d7ca543d-a8db-4b70-98e7-2d9cb8994c63",
   "metadata": {},
   "source": [
    "# Python Basics Questions"
   ]
  },
  {
   "attachments": {},
   "cell_type": "markdown",
   "id": "8fc8bc22-d61a-4dce-ad42-7c901fc6c07e",
   "metadata": {},
   "source": [
    "### 1 What is Python, and why is it popular?\n",
    "* Python is a high-level, interpreted programming language, that is easy to understand and write, making it a popular choice among developers and programmers. It is compatible with various programming paradigms, such as procedural, object-oriented, and functional programming. "
   ]
  },
  {
   "cell_type": "markdown",
   "id": "c9db42e8-e56d-4f39-a4ce-696eebab7373",
   "metadata": {},
   "source": [
    "### 2 What is an interpreter in Python?\n",
    "* An interpreter in Python is a program that reads and executes code line by line. It directly runs the Python code without compiling it first, this makes debugging easier and faster."
   ]
  },
  {
   "attachments": {},
   "cell_type": "markdown",
   "id": "e29d1727-24e0-4d45-bc4e-8e5b829f6970",
   "metadata": {
    "jp-MarkdownHeadingCollapsed": true
   },
   "source": [
    "### 3 What are pre-defined keywords in Python?\n",
    "* Keywords are reserved words in Python that have special meanings and cannot be used as identifiers (variable names, function names, etc.). Examples of keywords include if, else, while, for, def, class, import, try, except, return, True, False, None, etc."
   ]
  },
  {
   "cell_type": "markdown",
   "id": "48dca8d9-0fa6-4c83-a6af-6b5a7a650db6",
   "metadata": {},
   "source": [
    "### 4 Can keywords be used as variable names?\n",
    "* No, Keywords are reserved words and cannot be used as variable names"
   ]
  },
  {
   "cell_type": "markdown",
   "id": "f03362b2-8ca5-4f45-a4c9-f72e3c3184df",
   "metadata": {},
   "source": [
    "### 5 What is mutability in Python?\n",
    "Mutability in Python refers to whether an object’s value can be changed or not after it’s created.\n",
    "- Mutable objects: Can be changed (e.g., list, dict, set)\n",
    "- Immutable objects: Cannot be changed (e.g., int, float, str, tuple)"
   ]
  },
  {
   "cell_type": "markdown",
   "id": "325eb97b-8858-4756-9f86-a908aea5bbec",
   "metadata": {},
   "source": [
    "### 6 Why are lists mutable, but tuples are immutable?\n",
    "* Lists are mutable because they are designed to store and modify collections of data — you can add, remove, or change elements.\n",
    "* Tuples are immutable to ensure data integrity and safety — once created, their content cannot change, making them faster and ideal for fixed data like coordinates or config settings."
   ]
  },
  {
   "cell_type": "markdown",
   "id": "2ef7e901-3f9d-4498-8145-0e03946e072d",
   "metadata": {},
   "source": [
    "### 7 What is the difference between “==” and “is” operators in Python?\n",
    "* `==` checks if values are equal (content comparison).\n",
    "   Example: `a == b` checks if `a` and `b` have the same value.\n",
    "* `is` checks if both refer to the same object in memory (identity comparison).\n",
    "  Example: `a is b` is `True` only if `a` and `b` point to the exact same object.\n"
   ]
  },
  {
   "cell_type": "markdown",
   "id": "a19c3f2f-f0d1-4c69-995f-d310edb5fc8e",
   "metadata": {},
   "source": [
    "### 8 What are logical operators in Python?\n",
    "Logical operators in Python are used to combine conditional statements. They return True or False based on the logic:\n",
    "- and → True if both conditions are true\n",
    "- or → True if at least one condition is true\n",
    "- not → Reverses the result (True → False, False → True)"
   ]
  },
  {
   "cell_type": "markdown",
   "id": "fbf9c8c5-5628-4d35-9b1a-7afd4dbf908c",
   "metadata": {},
   "source": [
    "### 9 What is type casting in Python?\n",
    "- Type casting in Python means converting a value from one data type to another.\n",
    "- Examples: int(\"5\") → Converts string to integer"
   ]
  },
  {
   "cell_type": "markdown",
   "id": "af68dd7c-62a3-4551-9e49-8b88d9cbc98f",
   "metadata": {},
   "source": [
    "### 10 What is the difference between implicit and explicit type casting \n",
    "* Implicit type casting is done automatically by Python when combining different data types (e.g., int + float becomes float).\n",
    "* Explicit type casting is done manually by the programmer using functions like int(), float(), or str() to convert types."
   ]
  },
  {
   "attachments": {},
   "cell_type": "markdown",
   "id": "ac9b5360-49db-4d53-b3fd-4ecf86e68374",
   "metadata": {},
   "source": [
    "### 11 What is the purpose of conditional statements in Python?\n",
    "* Conditionals in Python are used to execute code based on the evaluation of one or more conditions. Python supports conditional statements such as if, elif (else if), and else to control the flow of execution."
   ]
  },
  {
   "cell_type": "markdown",
   "id": "6a37149a-3679-4924-8a83-eb76366a4982",
   "metadata": {},
   "source": [
    "### 12  How does the elif statement work?\n",
    "* is short for \"else if.\" It allows you to check multiple conditions in a sequence after an initial if statement. If the if condition is false, the program evaluates the elif condition(s) one by one until one is true or until it reaches an optional else block."
   ]
  },
  {
   "cell_type": "markdown",
   "id": "3fb48325-8044-4a57-9a8b-11afbc5f8c91",
   "metadata": {},
   "source": [
    "### 13 What is the difference between for and while loops?\n",
    "* for loop is used when you know how many times to repeat (e.g., looping through a list or range).\n",
    "* while loop is used when you want to repeat until a condition becomes false (unknown number of repetitions)."
   ]
  },
  {
   "cell_type": "markdown",
   "id": "fcc8941f-fd6f-47d0-bffd-e88f3d42f7ca",
   "metadata": {},
   "source": [
    "### 14 Describe a scenario where a while loop is more suitable than a for loop?\n",
    "* A while loop is more suitable when the number of repetitions is not known in advance — for example below:"
   ]
  },
  {
   "cell_type": "code",
   "execution_count": 5,
   "id": "6cd7e907-4b91-46ed-8ed9-b2dd311b8623",
   "metadata": {},
   "outputs": [
    {
     "name": "stdin",
     "output_type": "stream",
     "text": [
      "Enter your password:  secret123\n"
     ]
    },
    {
     "name": "stdout",
     "output_type": "stream",
     "text": [
      "Access granted!\n"
     ]
    }
   ],
   "source": [
    "# Scenario: Keep asking the user for a password until it’s correct:\n",
    "password = \"\"\n",
    "while password != \"secret123\":\n",
    "    password = input(\"Enter your password: \")\n",
    "print(\"Access granted!\")"
   ]
  },
  {
   "cell_type": "markdown",
   "id": "700c91a6-fd92-4ef8-98a7-b58418c77c0a",
   "metadata": {},
   "source": [
    "# Practical Questions"
   ]
  },
  {
   "cell_type": "markdown",
   "id": "6181a9f6-ca7b-47e2-b980-7e8db3a7e015",
   "metadata": {},
   "source": [
    "### 1  Write a Python program to print \"Hello, World!\""
   ]
  },
  {
   "cell_type": "code",
   "execution_count": 7,
   "id": "b4b8a8ca-66ff-4ebf-907e-bef360a8917c",
   "metadata": {},
   "outputs": [
    {
     "name": "stdout",
     "output_type": "stream",
     "text": [
      "Hello, World!\n"
     ]
    }
   ],
   "source": [
    "print(\"Hello, World!\")"
   ]
  },
  {
   "cell_type": "markdown",
   "id": "76f8c625-7656-43d4-bd05-1558f30d8ff7",
   "metadata": {},
   "source": [
    "### 2 Write a Python program that displays your name and age?"
   ]
  },
  {
   "cell_type": "code",
   "execution_count": 6,
   "id": "5016899a-587f-4633-a7c3-bec76f5a4f0b",
   "metadata": {},
   "outputs": [
    {
     "name": "stdout",
     "output_type": "stream",
     "text": [
      "My name is Gaurav\n",
      "I am 30 years old\n"
     ]
    }
   ],
   "source": [
    "name = \"Gaurav\"\n",
    "age = 30\n",
    "\n",
    "print(\"My name is\", name)\n",
    "print(\"I am\", age, \"years old\")"
   ]
  },
  {
   "cell_type": "markdown",
   "id": "1287823c-9627-4b5d-a61b-e7b1cc1a6bc4",
   "metadata": {},
   "source": [
    "### 3  Write code to print all the pre-defined keywords in Python using the keyword library?"
   ]
  },
  {
   "cell_type": "code",
   "execution_count": 9,
   "id": "1a737a43-92b6-4ecc-bf17-ef93cf2b23c4",
   "metadata": {},
   "outputs": [
    {
     "name": "stdout",
     "output_type": "stream",
     "text": [
      "Python Keywords:\n",
      "['False', 'None', 'True', 'and', 'as', 'assert', 'async', 'await', 'break', 'class', 'continue', 'def', 'del', 'elif', 'else', 'except', 'finally', 'for', 'from', 'global', 'if', 'import', 'in', 'is', 'lambda', 'nonlocal', 'not', 'or', 'pass', 'raise', 'return', 'try', 'while', 'with', 'yield']\n"
     ]
    }
   ],
   "source": [
    "# We can use the Python keyword library to print all the pre-defined keywords:\n",
    "import keyword\n",
    "\n",
    "print(\"Python Keywords:\")\n",
    "print(keyword.kwlist)"
   ]
  },
  {
   "cell_type": "markdown",
   "id": "40a6cbc1-6f4f-4679-8b4b-5b90a3cb23b1",
   "metadata": {},
   "source": [
    "### 4 Write a program that checks if a given word is a Python keyword?"
   ]
  },
  {
   "cell_type": "code",
   "execution_count": 10,
   "id": "fbaca7a8-9263-40ba-a383-e5aec467b37e",
   "metadata": {},
   "outputs": [
    {
     "name": "stdin",
     "output_type": "stream",
     "text": [
      "Enter a word to check if it's a Python keyword:  def\n"
     ]
    },
    {
     "name": "stdout",
     "output_type": "stream",
     "text": [
      "'def' is a Python keyword.\n"
     ]
    }
   ],
   "source": [
    "import keyword\n",
    "\n",
    "# Get input from the user\n",
    "word = input(\"Enter a word to check if it's a Python keyword: \")\n",
    "\n",
    "# Check if the word is a Python keyword\n",
    "if keyword.iskeyword(word):\n",
    "    print(f\"'{word}' is a Python keyword.\")\n",
    "else:\n",
    "    print(f\"'{word}' is not a Python keyword.\")"
   ]
  },
  {
   "cell_type": "markdown",
   "id": "d2161756-c8ec-47a7-aa52-09605caf568e",
   "metadata": {},
   "source": [
    "#### 5 Create a list and tuple in Python, and demonstrate how attempting to change an element works differently for each"
   ]
  },
  {
   "cell_type": "code",
   "execution_count": 11,
   "id": "0c19e99c-5d9c-46e6-b626-e726b0ffaaaa",
   "metadata": {},
   "outputs": [
    {
     "name": "stdout",
     "output_type": "stream",
     "text": [
      "Original list: [10, 20, 30]\n",
      "Modified list: [10, 99, 30]\n",
      "Original tuple: (10, 20, 30)\n",
      "Error: 'tuple' object does not support item assignment\n"
     ]
    }
   ],
   "source": [
    "# List (Mutable)\n",
    "my_list = [10, 20, 30]\n",
    "print(\"Original list:\", my_list)\n",
    "\n",
    "my_list[1] = 99  # Changing the second element\n",
    "print(\"Modified list:\", my_list)\n",
    "\n",
    "# Tuple (Immutable)\n",
    "my_tuple = (10, 20, 30)\n",
    "print(\"Original tuple:\", my_tuple)\n",
    "\n",
    "# Trying to change the second element\n",
    "try:\n",
    "    my_tuple[1] = 99\n",
    "except TypeError as e:\n",
    "    print(\"Error:\", e)"
   ]
  },
  {
   "cell_type": "markdown",
   "id": "746c0f27-a82f-4a03-a726-3cf21255b598",
   "metadata": {},
   "source": [
    "### 6 Write a function to demonstrate the behavior of mutable and immutable arguments."
   ]
  },
  {
   "cell_type": "code",
   "execution_count": 24,
   "id": "9f3c7270-ae66-4d46-9b5c-76ccbed699a3",
   "metadata": {},
   "outputs": [
    {
     "name": "stdout",
     "output_type": "stream",
     "text": [
      "Inside function (immutable): 15\n",
      "Outside function (immutable): 5\n",
      "Inside function (mutable): [1, 2, 3, 4]\n",
      "Outside function (mutable): [1, 2, 3, 4]\n"
     ]
    }
   ],
   "source": [
    "# Immutable example (int)\n",
    "def modify_number(x):\n",
    "    x = x + 10\n",
    "    print(\"Inside function (immutable):\", x)\n",
    "\n",
    "# Mutable example (list)\n",
    "def modify_list(lst):\n",
    "    lst.append(4)\n",
    "    print(\"Inside function (mutable):\", lst)\n",
    "\n",
    "# Test immutable\n",
    "num = 5\n",
    "modify_number(num)\n",
    "print(\"Outside function (immutable):\", num)  # Original stays unchanged\n",
    "\n",
    "# Test mutable\n",
    "my_list = [1, 2, 3]\n",
    "modify_list(my_list)\n",
    "print(\"Outside function (mutable):\", my_list)  # Original gets modified"
   ]
  },
  {
   "cell_type": "markdown",
   "id": "369cd632-fe3b-499e-a827-4b380005ebad",
   "metadata": {},
   "source": [
    "### 7 Write a program that performs basic arithmetic operations on two user-input numbers."
   ]
  },
  {
   "cell_type": "code",
   "execution_count": 13,
   "id": "b76f7827-8c76-4b60-afc8-0f7e09efb9e6",
   "metadata": {},
   "outputs": [
    {
     "name": "stdin",
     "output_type": "stream",
     "text": [
      "Enter first number:  4\n",
      "Enter second number:  5\n"
     ]
    },
    {
     "name": "stdout",
     "output_type": "stream",
     "text": [
      "Addition: 9.0\n",
      "Subtraction: -1.0\n",
      "Multiplication: 20.0\n",
      "Division: 0.8\n"
     ]
    }
   ],
   "source": [
    "# Get input from the user\n",
    "num1 = float(input(\"Enter first number: \"))\n",
    "num2 = float(input(\"Enter second number: \"))\n",
    "\n",
    "# Perform operations\n",
    "print(\"Addition:\", num1 + num2)\n",
    "print(\"Subtraction:\", num1 - num2)\n",
    "print(\"Multiplication:\", num1 * num2)\n",
    "\n",
    "# Handle division by zero\n",
    "if num2 != 0:\n",
    "    print(\"Division:\", num1 / num2)\n",
    "else:\n",
    "    print(\"Division: Cannot divide by zero\")"
   ]
  },
  {
   "cell_type": "markdown",
   "id": "ff497893-d90d-4430-92c2-c4621905eee8",
   "metadata": {},
   "source": [
    "### 8 Write a program to demonstrate the use of logical operators."
   ]
  },
  {
   "cell_type": "code",
   "execution_count": 14,
   "id": "1a410a79-c417-4c3e-9dd9-7d02b88d11e1",
   "metadata": {},
   "outputs": [
    {
     "name": "stdin",
     "output_type": "stream",
     "text": [
      "Enter your age:  22\n",
      "Do you have a valid ID? (yes/no):  yes\n"
     ]
    },
    {
     "name": "stdout",
     "output_type": "stream",
     "text": [
      "You are allowed to enter.\n"
     ]
    }
   ],
   "source": [
    "# Take user input\n",
    "age = int(input(\"Enter your age: \"))\n",
    "has_id = input(\"Do you have a valid ID? (yes/no): \").lower()\n",
    "\n",
    "# Logical operator examples\n",
    "if age >= 18 and has_id == \"yes\":\n",
    "    print(\"You are allowed to enter.\")\n",
    "elif age >= 18 or has_id == \"yes\":\n",
    "    print(\"You might be allowed, but more info is needed.\")\n",
    "else:\n",
    "    print(\"Access denied.\")\n",
    "\n",
    "# Using 'not' operator\n",
    "if not has_id == \"yes\":\n",
    "    print(\"Please carry a valid ID next time.\")\n"
   ]
  },
  {
   "cell_type": "markdown",
   "id": "09137e8a-7030-4ba9-b899-a53a4c11c369",
   "metadata": {},
   "source": [
    "### 9 Write a Python program to convert user input from string to integer, float, and boolean types."
   ]
  },
  {
   "cell_type": "code",
   "execution_count": 16,
   "id": "81c2495b-6ae0-4165-badf-5cb3ff24388b",
   "metadata": {},
   "outputs": [
    {
     "name": "stdin",
     "output_type": "stream",
     "text": [
      "Enter a value:  5\n"
     ]
    },
    {
     "name": "stdout",
     "output_type": "stream",
     "text": [
      "Integer: 5\n",
      "Float: 5.0\n",
      "Boolean: True\n"
     ]
    }
   ],
   "source": [
    "# Take input from user\n",
    "user_input = input(\"Enter a value: \")\n",
    "\n",
    "# Convert to integer\n",
    "try:\n",
    "    int_value = int(user_input)\n",
    "    print(\"Integer:\", int_value)\n",
    "except ValueError:\n",
    "    print(\"Cannot convert to Integer\")\n",
    "\n",
    "# Convert to float\n",
    "try:\n",
    "    float_value = float(user_input)\n",
    "    print(\"Float:\", float_value)\n",
    "except ValueError:\n",
    "    print(\"Cannot convert to Float\")\n",
    "\n",
    "# Convert to boolean\n",
    "# Common convention: empty string or '0' = False, others = True\n",
    "bool_value = bool(user_input) and user_input != \"0\"\n",
    "print(\"Boolean:\", bool_value)"
   ]
  },
  {
   "cell_type": "markdown",
   "id": "775fcb0b-ba28-42dd-86f9-f3b63f4f1d0a",
   "metadata": {},
   "source": [
    "### 10 Write code to demonstrate type casting with list elements."
   ]
  },
  {
   "cell_type": "code",
   "execution_count": 17,
   "id": "27ba1226-e31b-4f6b-9660-f582c03afa99",
   "metadata": {},
   "outputs": [
    {
     "name": "stdout",
     "output_type": "stream",
     "text": [
      "List of integers: [10, 20, 30, 40]\n",
      "List of floats: [10.0, 20.0, 30.0, 40.0]\n",
      "List of booleans: [True, True, True, True]\n"
     ]
    }
   ],
   "source": [
    "# Original list of strings (e.g., user input)\n",
    "str_list = [\"10\", \"20\", \"30\", \"40\"]\n",
    "\n",
    "# Convert each element to integer using type casting\n",
    "int_list = [int(x) for x in str_list]\n",
    "print(\"List of integers:\", int_list)\n",
    "\n",
    "# Convert each element to float\n",
    "float_list = [float(x) for x in str_list]\n",
    "print(\"List of floats:\", float_list)\n",
    "\n",
    "# Convert each element to boolean\n",
    "bool_list = [bool(x) for x in str_list]\n",
    "print(\"List of booleans:\", bool_list)"
   ]
  },
  {
   "cell_type": "markdown",
   "id": "6fd4344b-555f-49b1-aec0-41db9c940019",
   "metadata": {},
   "source": [
    "### 11 Write a program that checks if a number is positive, negative, or zero."
   ]
  },
  {
   "cell_type": "code",
   "execution_count": 18,
   "id": "dc059c2c-ae66-48e7-bde9-de7d2f576d8b",
   "metadata": {},
   "outputs": [
    {
     "name": "stdin",
     "output_type": "stream",
     "text": [
      "Enter a number:  5\n"
     ]
    },
    {
     "name": "stdout",
     "output_type": "stream",
     "text": [
      "The number is positive.\n"
     ]
    }
   ],
   "source": [
    "# Get user input\n",
    "num = float(input(\"Enter a number: \"))\n",
    "\n",
    "# Check the condition\n",
    "if num > 0:\n",
    "    print(\"The number is positive.\")\n",
    "elif num < 0:\n",
    "    print(\"The number is negative.\")\n",
    "else:\n",
    "    print(\"The number is zero.\")"
   ]
  },
  {
   "cell_type": "markdown",
   "id": "d8fa6872-1547-493d-a838-795e32dc646b",
   "metadata": {},
   "source": [
    "### 12 Write a for loop to print numbers from 1 to 10."
   ]
  },
  {
   "cell_type": "code",
   "execution_count": 19,
   "id": "29d9df45-5bfc-47cc-9e18-ac5090bfbbaa",
   "metadata": {},
   "outputs": [
    {
     "name": "stdout",
     "output_type": "stream",
     "text": [
      "1 2 3 4 5 6 7 8 9 10 "
     ]
    }
   ],
   "source": [
    "for i in range(1, 11):\n",
    "    print(i,end=' ')"
   ]
  },
  {
   "cell_type": "markdown",
   "id": "6e63046a-7059-44a7-a408-d9f37055bd0c",
   "metadata": {},
   "source": [
    "### 13  Write a Python program to find the sum of all even numbers between 1 and 50."
   ]
  },
  {
   "cell_type": "code",
   "execution_count": 20,
   "id": "67eb0568-17e5-4a74-884b-022ce3cee487",
   "metadata": {},
   "outputs": [
    {
     "name": "stdout",
     "output_type": "stream",
     "text": [
      "Sum of even numbers from 1 to 50 is: 650\n"
     ]
    }
   ],
   "source": [
    "even_sum = 0\n",
    "\n",
    "for i in range(2, 51, 2):  # Start at 2, go up to 50, step by 2\n",
    "    even_sum += i\n",
    "\n",
    "print(\"Sum of even numbers from 1 to 50 is:\", even_sum)"
   ]
  },
  {
   "cell_type": "markdown",
   "id": "c1d87757-1cb8-4b7b-adf0-cef337355e94",
   "metadata": {},
   "source": [
    "### 14  Write a program to reverse a string using a while loop"
   ]
  },
  {
   "cell_type": "code",
   "execution_count": 21,
   "id": "aab9c6a2-4e34-46aa-ac8b-15a4fa78f02b",
   "metadata": {},
   "outputs": [
    {
     "name": "stdin",
     "output_type": "stream",
     "text": [
      "Enter a string:  pwskills\n"
     ]
    },
    {
     "name": "stdout",
     "output_type": "stream",
     "text": [
      "Reversed string: sllikswp\n"
     ]
    }
   ],
   "source": [
    "# Get input from the user\n",
    "text = input(\"Enter a string: \")\n",
    "\n",
    "# Initialize variables\n",
    "reversed_text = \"\"\n",
    "index = len(text) - 1\n",
    "\n",
    "# Reverse using while loop\n",
    "while index >= 0:\n",
    "    reversed_text += text[index]\n",
    "    index -= 1\n",
    "\n",
    "print(\"Reversed string:\", reversed_text)"
   ]
  },
  {
   "cell_type": "markdown",
   "id": "d26886c0-e49f-4aac-bc04-9bec9c501ef8",
   "metadata": {},
   "source": [
    "### 15 Write a Python program to calculate the factorial of a number provided by the user using a while loop"
   ]
  },
  {
   "cell_type": "code",
   "execution_count": 23,
   "id": "f625ea36-63f9-4358-bcfb-19f02acfc1a1",
   "metadata": {},
   "outputs": [
    {
     "name": "stdin",
     "output_type": "stream",
     "text": [
      "Enter a number:  8\n"
     ]
    },
    {
     "name": "stdout",
     "output_type": "stream",
     "text": [
      "Factorial of 8 is: 40320\n"
     ]
    }
   ],
   "source": [
    "# Get input from user\n",
    "num = int(input(\"Enter a number: \"))\n",
    "\n",
    "# Initialize variables\n",
    "factorial = 1\n",
    "i = 1\n",
    "\n",
    "# Handle negative input\n",
    "if num < 0:\n",
    "    print(\"Factorial is not defined for negative numbers.\")\n",
    "else:\n",
    "    while i <= num:\n",
    "        factorial *= i\n",
    "        i += 1\n",
    "    print(f\"Factorial of {num} is: {factorial}\")"
   ]
  }
 ],
 "metadata": {
  "kernelspec": {
   "display_name": "Python 3 (ipykernel)",
   "language": "python",
   "name": "python3"
  },
  "language_info": {
   "codemirror_mode": {
    "name": "ipython",
    "version": 3
   },
   "file_extension": ".py",
   "mimetype": "text/x-python",
   "name": "python",
   "nbconvert_exporter": "python",
   "pygments_lexer": "ipython3",
   "version": "3.12.7"
  }
 },
 "nbformat": 4,
 "nbformat_minor": 5
}
